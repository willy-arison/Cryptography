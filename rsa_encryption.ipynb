{
 "cells": [
  {
   "cell_type": "code",
   "execution_count": 1,
   "id": "a64d898f-701d-4063-aa57-52a17006cd6f",
   "metadata": {},
   "outputs": [],
   "source": [
    "import math, random, sympy\n",
    "from math import log\n",
    "import string"
   ]
  },
  {
   "cell_type": "markdown",
   "id": "7bf312d9-5ada-480b-b331-4f38fe9fca6a",
   "metadata": {},
   "source": [
    "---\n",
    "\n",
    "#### **Extended Euclidean Algorithm (EEA)**\n",
    "\n",
    "The `EED` function implements the Extended Euclidean Algorithm, which solves the equation:\n",
    "$$\n",
    "au + bv = d\n",
    "$$\n",
    "where $d = \\gcd(a, b)$. It returns the tuple $(d, u, v)$, where:\n",
    "- $d$ is the greatest common divisor of $a$ and $b$.\n",
    "- $u$ and $v$ are the coefficients (Bézout coefficients) such that $au + bv = d$.\n",
    "\n",
    "\n",
    "#### **Modular Inverse**\n",
    "\n",
    "The `compute_inverse` function uses the EEA to compute the modular inverse of $a$\n",
    "modulo $n$. If $a$ and $n$ are coprime (i.e., $\\gcd(a, n) = 1$), it returns the\n",
    "modular inverse $v \\mod n$. Otherwise, it prints a message indicating that $a$ is not invertible.\n",
    "\n",
    "\n",
    "---"
   ]
  },
  {
   "cell_type": "code",
   "execution_count": 2,
   "id": "194da095-940d-4dc5-8bbb-35fc75af1d9e",
   "metadata": {},
   "outputs": [],
   "source": [
    "def EED(a: int, b: int):\n",
    "    \"\"\"\n",
    "    solve:\n",
    "        au + bv = d\n",
    "        d:= gcd(a, b)\n",
    "\n",
    "    returns: (d, u, v)\n",
    "    \"\"\"\n",
    "    u0, u1 = 1, 0\n",
    "    v0, v1 = 0, 1\n",
    "    r = 7\n",
    "    while r != 0:\n",
    "        q, r = a//b, a%b#divmod(a, b)\n",
    "        u1, u0 = u0 - q*u1, u1\n",
    "        v1, v0 = v0 - q*v1, v1\n",
    "        a, b = b, r\n",
    "\n",
    "    return a, u0, v0\n",
    "\n",
    "\n",
    "def compute_inverse(a: int, n: int):\n",
    "    \"\"\"\n",
    "    returns: - x where ax = 1 mod n\n",
    "             - None if a and n is not coprime\n",
    "    \"\"\"\n",
    "    d, u, v = EED(n, a)\n",
    "    if d == 1:\n",
    "        return v % n\n",
    "    print(f\"{a} is not invertible over Z/{n}Z\")\n",
    "\n",
    "def chinese_reminder(a1, a2, n1, n2):\n",
    "    d, u, v = EED(n1, n2)\n",
    "    if d == 1:\n",
    "        N1 = n2\n",
    "        m1 = v\n",
    "\n",
    "        N2 = n1\n",
    "        m2 = u\n",
    "        return (a1*N1*m1 + a2*N2*m2) % (n1*n2)\n",
    "\n",
    "    print(\"Solution doesn't exist.\")\n",
    "\n",
    "\n",
    "def pseudo_primality_test(N: int, x: int):\n",
    "\n",
    "    \"\"\"\n",
    "    returns: - False (composite number)\n",
    "             - True  (probably prime to base x)\n",
    "    \"\"\"\n",
    "    e = 0\n",
    "    N1 = N-1\n",
    "    while N1 % 2 == 0:\n",
    "        e += 1\n",
    "        N1 = N1 // 2\n",
    "    m = N1\n",
    "\n",
    "    # x = random.randint(2, N-1)\n",
    "    d, _, _ = EED(N, x)\n",
    "\n",
    "    if d != 1:\n",
    "        return False\n",
    "\n",
    "    y = pow(x, m, N)\n",
    "    if y == 1:\n",
    "        return True\n",
    "\n",
    "    for i in range(e):\n",
    "        if y == N-1:\n",
    "            return True\n",
    "        else:\n",
    "            y = pow(y, 2, N)\n",
    "\n",
    "    return False\n",
    "\n",
    "def primality_test(N: int, k: int=20):\n",
    "    if N == 2:\n",
    "        return True\n",
    "\n",
    "    for _ in range(k):\n",
    "        # x: witness value\n",
    "        x = random.randint(1, N-1)\n",
    "\n",
    "        if not pseudo_primality_test(N, x):\n",
    "            return False\n",
    "\n",
    "    return True\n",
    "\n",
    "def generate_prime(n:int, prime_algo):\n",
    "    \"\"\"\n",
    "    Inputs:\n",
    "        - n: number of bits\n",
    "        - prime_algo: primality test algorithm\n",
    "\n",
    "    Output: \n",
    "        - Prime number with number of bits n\n",
    "    \"\"\"\n",
    "    \n",
    "    if n <= 3:\n",
    "        n = 6\n",
    "        \n",
    "    y = pow(2, (n-1)/2)\n",
    "    lw = math.floor(y) + 1\n",
    "    up = math.floor(y*math.sqrt(2)) - 1\n",
    "    while True:\n",
    "        n = random.randint(lw, up)\n",
    "        if prime_algo(n):\n",
    "            return n"
   ]
  },
  {
   "cell_type": "markdown",
   "id": "0d42018a-3f0f-4c43-86d8-275db41a96bf",
   "metadata": {},
   "source": [
    "---\n",
    "\n",
    "\n",
    "\n",
    "#### **RSA Key Generation**\n",
    "\n",
    "The RSA key generation process involves:\n",
    "1. Generating two large prime numbers $p$ and $q$.\n",
    "2. Computing $N = p \\times q$ and $\\varphi(N) = (p-1)(q-1)$.\n",
    "3. Selecting a public key $e$ such that $\\gcd(e, \\varphi(N)) = 1$.\n",
    "4. Computing the private key $d$ as the modular inverse of $e$ modulo $\\varphi(N)$.\n",
    "\n"
   ]
  },
  {
   "cell_type": "code",
   "execution_count": 3,
   "id": "f7439238-a0b8-4b90-928c-d5a3b2851090",
   "metadata": {},
   "outputs": [],
   "source": [
    "def key_generation_rsa(p, q):\n",
    "    N = p*q\n",
    "    L = (p-1)*(q-1)\n",
    "    while True:\n",
    "        e = random.randint(2, L-1)\n",
    "        d, u, v = EED(L, e)\n",
    "        if d == 1:\n",
    "            return N, e, v % L"
   ]
  },
  {
   "cell_type": "markdown",
   "id": "1d65fd51-9517-42bf-a081-6a15ab136f8c",
   "metadata": {},
   "source": [
    "#### **Encryption**\n",
    "The `encryption` function encodes a message into a numerical format and encrypts it using the public key $(N, e)$.\n",
    "\n",
    "\n",
    "\n",
    "#### **Decryption**\n",
    "The `decryption` function decrypts the ciphertext using the private key $(N, d)$ and decodes it back into the original message."
   ]
  },
  {
   "cell_type": "code",
   "execution_count": 4,
   "id": "e4c11a19-e380-43c1-945c-94db29b66703",
   "metadata": {},
   "outputs": [],
   "source": [
    "BASE = string.printable\n",
    "\n",
    "\n",
    "def convert_str_to_int(msg:str, b:int):\n",
    "    x = 0\n",
    "    for i in range(len(msg)):\n",
    "        x += pow(b, i)*BASE.index(msg[i])\n",
    "    return x\n",
    "\n",
    "def convert_int_to_str(x:int, b:int):\n",
    "\n",
    "    msg = ''\n",
    "    while x>=b:\n",
    "        msg += BASE[x%b]\n",
    "        x //=b\n",
    "    msg += BASE[x]\n",
    "    return msg\n",
    "\n",
    "def convert_base_n(number:int, b):\n",
    "    l = []\n",
    "    while number>=b:\n",
    "        l.append(number%b)\n",
    "        number //= b\n",
    "    l.append(number)\n",
    "    return l\n",
    "\n",
    "def encryption(message:str, e: int, n: int):\n",
    "\n",
    "    msg = convert_str_to_int(message, 100)\n",
    "    base_n = convert_base_n(msg, n)\n",
    "    val = 0\n",
    "    for i in range(len(base_n)):\n",
    "        val += pow(base_n[i], e, n)*n**i\n",
    "\n",
    "    return convert_int_to_str(val, 100)\n",
    "\n",
    "def decryption(message:str, d: int, n: int):\n",
    "\n",
    "    msg = convert_str_to_int(message, 100)\n",
    "    base_n = convert_base_n(msg, n)\n",
    "    val = 0\n",
    "    for i in range(len(base_n)):\n",
    "        val += pow(base_n[i], d, n)*n**i\n",
    "\n",
    "    return convert_int_to_str(val, 100)"
   ]
  },
  {
   "cell_type": "markdown",
   "id": "d6a7ce6f-330a-4a92-bcf4-30c6570314f1",
   "metadata": {},
   "source": [
    "#### **Use the two following safe primes for p and q.**\n",
    "* *The security of RSA relies on the difficulty of factoring the product $N=pq$ into its prime factors q and p.*\n",
    "* *A safe prime is a prime number of the form $p=2q+1$, where $q$ is also a prime*\n",
    "* *A safe prime makes certain attacks, such as Pollard's $p−1$ factorization algorithm, less effective.*\n",
    "* *They ensure that $p−1$ has a large prime factor, which strengthens the security of the modulus $N$.*\n",
    "\n",
    "    "
   ]
  },
  {
   "cell_type": "code",
   "execution_count": 5,
   "id": "00832f35-fc60-4374-b72d-217cfa9d03ed",
   "metadata": {},
   "outputs": [],
   "source": [
    "p = 49635124589134858096121251644242489628344943459974812371817232056198344606696117926977793428185221500635617430184806373870258348740214426279109660899463935660251185317353656423283576439282267019129259164154281909683475137370970673432196999445178922501041062966015556349739959413639042929250732476767538436234280073916069226106947826257158376209221119040271449066873955696813401291084079495124976916708786955922019555451823754590720260965596245097151742891885915202997713570931595783576565372604279311985499142754730544113767278628220983747830518503417833003537488693938267019628231805325287835718263"
   ]
  },
  {
   "cell_type": "code",
   "execution_count": 6,
   "id": "dcfb91e7-bc1e-46cf-aa31-a0c4ba5017b9",
   "metadata": {},
   "outputs": [],
   "source": [
    "q = 74965465127118954159631720210745557201980041881006055614171953422712826523957449446036248892868765348553669818416270469792026622984136848797168921869409941943513445690626344313957312339747695972233508010058081885393013933459918865750408501321175581300415187525700294949282119611809486210993632264377587174092672902479867882803255613184166920581885635556894571419543582173700112297345200610557191836329086205956187111683375202777313555935565931955325103654757609521869668100519313437307958075931559106905592709203326532659764327922625682399072642067989554280046771916069679669240510574823200126496223"
   ]
  },
  {
   "cell_type": "markdown",
   "id": "dbcf8fa4-9267-4113-af7c-40c2ac5156eb",
   "metadata": {},
   "source": [
    "#### **Finding public key and secret key using the two safe primes.**"
   ]
  },
  {
   "cell_type": "code",
   "execution_count": 7,
   "id": "3a6407c6-dd93-4702-8401-b5b51fda5e12",
   "metadata": {},
   "outputs": [],
   "source": [
    "n, e, d = key_generation_rsa(q, p)"
   ]
  },
  {
   "cell_type": "code",
   "execution_count": 8,
   "id": "cfc20d24-c350-4bce-b88d-24be3c174fc9",
   "metadata": {},
   "outputs": [
    {
     "name": "stdout",
     "output_type": "stream",
     "text": [
      "THE ART OF BEING QUIETLY SILENT, ESTIMATED READER, IS A TRULY NOBLE THING; EVEN NOBLER\n",
      "IS IN MY VIEW THE ART OF BEING SILENT WHILE TALKING, AND THIS ART IS TAUGHT TO YOU BY MY\n",
      "CRYPTOGRAPHIA, OR THE ART OF MAKING HIDDEN LETTERS AND WRITINGS, BROUGHT HERE TO THE\n",
      "LIGHT OF DAY IN OUR MOTHER TONGUE.\n"
     ]
    }
   ],
   "source": [
    "message = \"\"\"THE ART OF BEING QUIETLY SILENT, ESTIMATED READER, IS A TRULY NOBLE THING; EVEN NOBLER\n",
    "IS IN MY VIEW THE ART OF BEING SILENT WHILE TALKING, AND THIS ART IS TAUGHT TO YOU BY MY\n",
    "CRYPTOGRAPHIA, OR THE ART OF MAKING HIDDEN LETTERS AND WRITINGS, BROUGHT HERE TO THE\n",
    "LIGHT OF DAY IN OUR MOTHER TONGUE.\"\"\"\n",
    "\n",
    "print(message)"
   ]
  },
  {
   "cell_type": "code",
   "execution_count": 10,
   "id": "27a823c0-a1ea-4d25-af47-2958757261cb",
   "metadata": {},
   "outputs": [
    {
     "name": "stdout",
     "output_type": "stream",
     "text": [
      "Encrypted Message: \n"
     ]
    },
    {
     "data": {
      "text/plain": [
       "'_A?yRE\\x0cO\\ne\\r!._%h\\\\QA m>oPj^61k\\r,EYrZ(t0Nr&5nK%RVz{RuwYEr87Jzr\\rYW$a_WSi7U\\tYNn\"&%XwOC&YiF*tgH._a\\x0c1GiXe;\\x0c;nQH142x*\\x0b07>$[|yKMm5Q+<y\\\\Ch;{*%?ypUy`m/6|v(rMq@{+D(U*Z63\\t-Bt3\\nJ<xvq((TO.CQ\"$H)\\rXf@|[{.v\\'!k;rW;2:9rPe6aqx\"F\\r\\t$b&-t2.fmBd@m:eYc8)+h\\n16HMDpbDM|Hk1\\tIL^}_}Gn~bR>\\x0bF\\'c4xL6%=3|P\\\\\"\\x0b51itdR#F\\n<I\\'m:op@HN8<*t>5EAl1\\x0czwxljIf#sIZ8kgf\\x0cv]f^,[UvM,&iQB7Z1>Uc\\x0b\\'-cbz;7\\'=b*p^Jj$\\'X\\'?SNNn&:r8VSrKCe.9?l}l[DcV[d[\\rUkyADZ,$`y%{K<s9FZ#m+FGq]R@Bh(d3fgkgJw\\nm?\\\\^$?CC3$d1MeZ\\'[YX@8FvYoCtI\\n`</TD7{V/y7B\\ry`/%Q,b_P$X|{O\\x0b\\t!N2&RVhd>A!C}6law,6lRnMh4J%%(ArpxJX2d06ZApC!#iAoQ#`;)\\x0b^)<_+?#+\\rs?YYx!S@wf~)2\\r(hDN|%SP6IkeRB-\\\\qZ#4@<[C{5lpe~c}M\\tfz'"
      ]
     },
     "execution_count": 10,
     "metadata": {},
     "output_type": "execute_result"
    }
   ],
   "source": [
    "enc_mesg = encryption(message, e, n)\n",
    "\n",
    "print('Encrypted Message: ')\n",
    "enc_mesg"
   ]
  },
  {
   "cell_type": "code",
   "execution_count": 11,
   "id": "1488d29b-dfea-402c-ad74-f05e68dab5b2",
   "metadata": {},
   "outputs": [
    {
     "name": "stdout",
     "output_type": "stream",
     "text": [
      "Decrypted Message: \n",
      "THE ART OF BEING QUIETLY SILENT, ESTIMATED READER, IS A TRULY NOBLE THING; EVEN NOBLER\n",
      "IS IN MY VIEW THE ART OF BEING SILENT WHILE TALKING, AND THIS ART IS TAUGHT TO YOU BY MY\n",
      "CRYPTOGRAPHIA, OR THE ART OF MAKING HIDDEN LETTERS AND WRITINGS, BROUGHT HERE TO THE\n",
      "LIGHT OF DAY IN OUR MOTHER TONGUE.\n"
     ]
    }
   ],
   "source": [
    "print('Decrypted Message: ')\n",
    "print(decryption(enc_mesg, d, n))"
   ]
  },
  {
   "cell_type": "code",
   "execution_count": null,
   "id": "2d7b3a36-4579-4d39-a59e-fed7c97a583c",
   "metadata": {},
   "outputs": [],
   "source": []
  }
 ],
 "metadata": {
  "kernelspec": {
   "display_name": "Python 3 (ipykernel)",
   "language": "python",
   "name": "python3"
  },
  "language_info": {
   "codemirror_mode": {
    "name": "ipython",
    "version": 3
   },
   "file_extension": ".py",
   "mimetype": "text/x-python",
   "name": "python",
   "nbconvert_exporter": "python",
   "pygments_lexer": "ipython3",
   "version": "3.12.6"
  }
 },
 "nbformat": 4,
 "nbformat_minor": 5
}
